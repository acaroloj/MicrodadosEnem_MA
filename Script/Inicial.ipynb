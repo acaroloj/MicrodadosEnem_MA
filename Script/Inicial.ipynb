{
 "metadata": {
  "language_info": {
   "codemirror_mode": {
    "name": "ipython",
    "version": 3
   },
   "file_extension": ".py",
   "mimetype": "text/x-python",
   "name": "python",
   "nbconvert_exporter": "python",
   "pygments_lexer": "ipython3",
   "version": "3.7.9-final"
  },
  "orig_nbformat": 2,
  "kernelspec": {
   "name": "python3",
   "display_name": "Python 3",
   "language": "python"
  }
 },
 "nbformat": 4,
 "nbformat_minor": 2,
 "cells": [
  {
   "cell_type": "code",
   "execution_count": 13,
   "metadata": {},
   "outputs": [],
   "source": [
    "import pandas as pd\n",
    "import numpy as np"
   ]
  },
  {
   "cell_type": "code",
   "execution_count": 14,
   "metadata": {},
   "outputs": [],
   "source": [
    "reader = pd.read_csv(r'C:/Users/USER/Documents/hellods/MICRODADOS_ENEM_2019.csv',\n",
    "                     sep=';', engine='python',\n",
    "                     chunksize=1000000, iterator=True)"
   ]
  },
  {
   "cell_type": "code",
   "execution_count": 15,
   "metadata": {},
   "outputs": [
    {
     "output_type": "execute_result",
     "data": {
      "text/plain": [
       "   NU_INSCRICAO  NU_ANO  CO_MUNICIPIO_RESIDENCIA     NO_MUNICIPIO_RESIDENCIA  \\\n",
       "0  190001004627    2019                  1506807                    Santarém   \n",
       "1  190001004628    2019                  1504059                  Mãe do Rio   \n",
       "2  190001004629    2019                  1505502                 Paragominas   \n",
       "3  190001004630    2019                  1507706  São Sebastião da Boa Vista   \n",
       "4  190001004631    2019                  1503903                      Juruti   \n",
       "\n",
       "   CO_UF_RESIDENCIA SG_UF_RESIDENCIA  NU_IDADE TP_SEXO  TP_ESTADO_CIVIL  \\\n",
       "0                15               PA        21       M                1   \n",
       "1                15               PA        16       F                1   \n",
       "2                15               PA        18       F                1   \n",
       "3                15               PA        23       M                0   \n",
       "4                15               PA        23       M                1   \n",
       "\n",
       "   TP_COR_RACA  ...  Q016  Q017 Q018  Q019 Q020  Q021  Q022  Q023  Q024  Q025  \n",
       "0            3  ...     A     A    A     C    B     A     D     A     B     A  \n",
       "1            3  ...     A     A    A     B    B     A     B     A     A     A  \n",
       "2            1  ...     B     A    A     D    B     B     D     A     C     B  \n",
       "3            3  ...     A     A    A     C    A     A     D     A     A     A  \n",
       "4            3  ...     A     A    A     B    A     A     D     A     A     A  \n",
       "\n",
       "[5 rows x 136 columns]"
      ],
      "text/html": "<div>\n<style scoped>\n    .dataframe tbody tr th:only-of-type {\n        vertical-align: middle;\n    }\n\n    .dataframe tbody tr th {\n        vertical-align: top;\n    }\n\n    .dataframe thead th {\n        text-align: right;\n    }\n</style>\n<table border=\"1\" class=\"dataframe\">\n  <thead>\n    <tr style=\"text-align: right;\">\n      <th></th>\n      <th>NU_INSCRICAO</th>\n      <th>NU_ANO</th>\n      <th>CO_MUNICIPIO_RESIDENCIA</th>\n      <th>NO_MUNICIPIO_RESIDENCIA</th>\n      <th>CO_UF_RESIDENCIA</th>\n      <th>SG_UF_RESIDENCIA</th>\n      <th>NU_IDADE</th>\n      <th>TP_SEXO</th>\n      <th>TP_ESTADO_CIVIL</th>\n      <th>TP_COR_RACA</th>\n      <th>...</th>\n      <th>Q016</th>\n      <th>Q017</th>\n      <th>Q018</th>\n      <th>Q019</th>\n      <th>Q020</th>\n      <th>Q021</th>\n      <th>Q022</th>\n      <th>Q023</th>\n      <th>Q024</th>\n      <th>Q025</th>\n    </tr>\n  </thead>\n  <tbody>\n    <tr>\n      <th>0</th>\n      <td>190001004627</td>\n      <td>2019</td>\n      <td>1506807</td>\n      <td>Santarém</td>\n      <td>15</td>\n      <td>PA</td>\n      <td>21</td>\n      <td>M</td>\n      <td>1</td>\n      <td>3</td>\n      <td>...</td>\n      <td>A</td>\n      <td>A</td>\n      <td>A</td>\n      <td>C</td>\n      <td>B</td>\n      <td>A</td>\n      <td>D</td>\n      <td>A</td>\n      <td>B</td>\n      <td>A</td>\n    </tr>\n    <tr>\n      <th>1</th>\n      <td>190001004628</td>\n      <td>2019</td>\n      <td>1504059</td>\n      <td>Mãe do Rio</td>\n      <td>15</td>\n      <td>PA</td>\n      <td>16</td>\n      <td>F</td>\n      <td>1</td>\n      <td>3</td>\n      <td>...</td>\n      <td>A</td>\n      <td>A</td>\n      <td>A</td>\n      <td>B</td>\n      <td>B</td>\n      <td>A</td>\n      <td>B</td>\n      <td>A</td>\n      <td>A</td>\n      <td>A</td>\n    </tr>\n    <tr>\n      <th>2</th>\n      <td>190001004629</td>\n      <td>2019</td>\n      <td>1505502</td>\n      <td>Paragominas</td>\n      <td>15</td>\n      <td>PA</td>\n      <td>18</td>\n      <td>F</td>\n      <td>1</td>\n      <td>1</td>\n      <td>...</td>\n      <td>B</td>\n      <td>A</td>\n      <td>A</td>\n      <td>D</td>\n      <td>B</td>\n      <td>B</td>\n      <td>D</td>\n      <td>A</td>\n      <td>C</td>\n      <td>B</td>\n    </tr>\n    <tr>\n      <th>3</th>\n      <td>190001004630</td>\n      <td>2019</td>\n      <td>1507706</td>\n      <td>São Sebastião da Boa Vista</td>\n      <td>15</td>\n      <td>PA</td>\n      <td>23</td>\n      <td>M</td>\n      <td>0</td>\n      <td>3</td>\n      <td>...</td>\n      <td>A</td>\n      <td>A</td>\n      <td>A</td>\n      <td>C</td>\n      <td>A</td>\n      <td>A</td>\n      <td>D</td>\n      <td>A</td>\n      <td>A</td>\n      <td>A</td>\n    </tr>\n    <tr>\n      <th>4</th>\n      <td>190001004631</td>\n      <td>2019</td>\n      <td>1503903</td>\n      <td>Juruti</td>\n      <td>15</td>\n      <td>PA</td>\n      <td>23</td>\n      <td>M</td>\n      <td>1</td>\n      <td>3</td>\n      <td>...</td>\n      <td>A</td>\n      <td>A</td>\n      <td>A</td>\n      <td>B</td>\n      <td>A</td>\n      <td>A</td>\n      <td>D</td>\n      <td>A</td>\n      <td>A</td>\n      <td>A</td>\n    </tr>\n  </tbody>\n</table>\n<p>5 rows × 136 columns</p>\n</div>"
     },
     "metadata": {},
     "execution_count": 15
    }
   ],
   "source": [
    "#Dados gerais equivalentes aos inscritos do ENEM 2019\n",
    "\n",
    "dados_ = reader.get_chunk()\n",
    "dados_.head()"
   ]
  },
  {
   "cell_type": "code",
   "execution_count": 16,
   "metadata": {},
   "outputs": [
    {
     "output_type": "execute_result",
     "data": {
      "text/plain": [
       "(1000000, 136)"
      ]
     },
     "metadata": {},
     "execution_count": 16
    }
   ],
   "source": [
    "dados_.shape"
   ]
  },
  {
   "cell_type": "code",
   "execution_count": 17,
   "metadata": {},
   "outputs": [
    {
     "output_type": "execute_result",
     "data": {
      "text/plain": [
       "SP    101740\n",
       "MG    100788\n",
       "CE     97762\n",
       "BA     87908\n",
       "RJ     70091\n",
       "PE     55942\n",
       "PA     48399\n",
       "MA     47738\n",
       "RS     41880\n",
       "PI     40748\n",
       "AM     37334\n",
       "PR     37257\n",
       "PB     29126\n",
       "RN     23957\n",
       "ES     21489\n",
       "SC     18853\n",
       "AL     17983\n",
       "GO     17913\n",
       "RO     17588\n",
       "MT     16602\n",
       "SE     15420\n",
       "MS     14579\n",
       "AP     12014\n",
       "TO     12009\n",
       "AC     11276\n",
       "RR      3484\n",
       "DF       120\n",
       "Name: SG_UF_RESIDENCIA, dtype: int64"
      ]
     },
     "metadata": {},
     "execution_count": 17
    }
   ],
   "source": [
    "#Quantidade de inscritos do ENEM 2019 por UF\n",
    "dados_[\"SG_UF_RESIDENCIA\"].value_counts()"
   ]
  },
  {
   "cell_type": "code",
   "execution_count": 18,
   "metadata": {},
   "outputs": [
    {
     "output_type": "execute_result",
     "data": {
      "text/plain": [
       "        NU_INSCRICAO  NU_ANO  CO_MUNICIPIO_RESIDENCIA NO_MUNICIPIO_RESIDENCIA  \\\n",
       "1018    190001005645    2019                  2111300                São Luís   \n",
       "1580    190001006207    2019                  2102606          Cândido Mendes   \n",
       "2352    190001006979    2019                  2111300                São Luís   \n",
       "6072    190001010699    2019                  2100055              Açailândia   \n",
       "8530    190001013157    2019                  2102903              Carutapera   \n",
       "...              ...     ...                      ...                     ...   \n",
       "997910  190002002558    2019                  2111300                São Luís   \n",
       "997911  190002002559    2019                  2105153         Igarapé do Meio   \n",
       "997912  190002002560    2019                  2105302              Imperatriz   \n",
       "997913  190002002561    2019                  2111300                São Luís   \n",
       "997914  190002002562    2019                  2111300                São Luís   \n",
       "\n",
       "        CO_UF_RESIDENCIA SG_UF_RESIDENCIA  NU_IDADE TP_SEXO  TP_ESTADO_CIVIL  \\\n",
       "1018                  21               MA        16       M                1   \n",
       "1580                  21               MA        18       F                1   \n",
       "2352                  21               MA        36       F                2   \n",
       "6072                  21               MA        22       F                1   \n",
       "8530                  21               MA        29       F                1   \n",
       "...                  ...              ...       ...     ...              ...   \n",
       "997910                21               MA        18       M                1   \n",
       "997911                21               MA        25       F                1   \n",
       "997912                21               MA        24       M                1   \n",
       "997913                21               MA        18       M                1   \n",
       "997914                21               MA        22       M                1   \n",
       "\n",
       "        TP_COR_RACA  ...  Q016  Q017 Q018  Q019 Q020  Q021  Q022  Q023  Q024  \\\n",
       "1018              1  ...     B     A    A     C    A     B     C     A     C   \n",
       "1580              1  ...     A     A    A     B    A     A     C     A     A   \n",
       "2352              3  ...     A     A    A     B    A     A     B     A     A   \n",
       "6072              3  ...     A     A    A     B    B     B     D     A     A   \n",
       "8530              2  ...     A     A    A     B    A     A     B     A     A   \n",
       "...             ...  ...   ...   ...  ...   ...  ...   ...   ...   ...   ...   \n",
       "997910            3  ...     A     A    A     B    A     A     C     A     A   \n",
       "997911            3  ...     A     A    A     B    A     A     B     A     A   \n",
       "997912            1  ...     A     A    A     B    A     A     C     A     B   \n",
       "997913            3  ...     A     A    A     B    A     A     B     A     A   \n",
       "997914            3  ...     B     A    A     B    A     A     C     A     B   \n",
       "\n",
       "        Q025  \n",
       "1018       B  \n",
       "1580       B  \n",
       "2352       A  \n",
       "6072       B  \n",
       "8530       A  \n",
       "...      ...  \n",
       "997910     B  \n",
       "997911     B  \n",
       "997912     B  \n",
       "997913     A  \n",
       "997914     B  \n",
       "\n",
       "[47738 rows x 136 columns]"
      ],
      "text/html": "<div>\n<style scoped>\n    .dataframe tbody tr th:only-of-type {\n        vertical-align: middle;\n    }\n\n    .dataframe tbody tr th {\n        vertical-align: top;\n    }\n\n    .dataframe thead th {\n        text-align: right;\n    }\n</style>\n<table border=\"1\" class=\"dataframe\">\n  <thead>\n    <tr style=\"text-align: right;\">\n      <th></th>\n      <th>NU_INSCRICAO</th>\n      <th>NU_ANO</th>\n      <th>CO_MUNICIPIO_RESIDENCIA</th>\n      <th>NO_MUNICIPIO_RESIDENCIA</th>\n      <th>CO_UF_RESIDENCIA</th>\n      <th>SG_UF_RESIDENCIA</th>\n      <th>NU_IDADE</th>\n      <th>TP_SEXO</th>\n      <th>TP_ESTADO_CIVIL</th>\n      <th>TP_COR_RACA</th>\n      <th>...</th>\n      <th>Q016</th>\n      <th>Q017</th>\n      <th>Q018</th>\n      <th>Q019</th>\n      <th>Q020</th>\n      <th>Q021</th>\n      <th>Q022</th>\n      <th>Q023</th>\n      <th>Q024</th>\n      <th>Q025</th>\n    </tr>\n  </thead>\n  <tbody>\n    <tr>\n      <th>1018</th>\n      <td>190001005645</td>\n      <td>2019</td>\n      <td>2111300</td>\n      <td>São Luís</td>\n      <td>21</td>\n      <td>MA</td>\n      <td>16</td>\n      <td>M</td>\n      <td>1</td>\n      <td>1</td>\n      <td>...</td>\n      <td>B</td>\n      <td>A</td>\n      <td>A</td>\n      <td>C</td>\n      <td>A</td>\n      <td>B</td>\n      <td>C</td>\n      <td>A</td>\n      <td>C</td>\n      <td>B</td>\n    </tr>\n    <tr>\n      <th>1580</th>\n      <td>190001006207</td>\n      <td>2019</td>\n      <td>2102606</td>\n      <td>Cândido Mendes</td>\n      <td>21</td>\n      <td>MA</td>\n      <td>18</td>\n      <td>F</td>\n      <td>1</td>\n      <td>1</td>\n      <td>...</td>\n      <td>A</td>\n      <td>A</td>\n      <td>A</td>\n      <td>B</td>\n      <td>A</td>\n      <td>A</td>\n      <td>C</td>\n      <td>A</td>\n      <td>A</td>\n      <td>B</td>\n    </tr>\n    <tr>\n      <th>2352</th>\n      <td>190001006979</td>\n      <td>2019</td>\n      <td>2111300</td>\n      <td>São Luís</td>\n      <td>21</td>\n      <td>MA</td>\n      <td>36</td>\n      <td>F</td>\n      <td>2</td>\n      <td>3</td>\n      <td>...</td>\n      <td>A</td>\n      <td>A</td>\n      <td>A</td>\n      <td>B</td>\n      <td>A</td>\n      <td>A</td>\n      <td>B</td>\n      <td>A</td>\n      <td>A</td>\n      <td>A</td>\n    </tr>\n    <tr>\n      <th>6072</th>\n      <td>190001010699</td>\n      <td>2019</td>\n      <td>2100055</td>\n      <td>Açailândia</td>\n      <td>21</td>\n      <td>MA</td>\n      <td>22</td>\n      <td>F</td>\n      <td>1</td>\n      <td>3</td>\n      <td>...</td>\n      <td>A</td>\n      <td>A</td>\n      <td>A</td>\n      <td>B</td>\n      <td>B</td>\n      <td>B</td>\n      <td>D</td>\n      <td>A</td>\n      <td>A</td>\n      <td>B</td>\n    </tr>\n    <tr>\n      <th>8530</th>\n      <td>190001013157</td>\n      <td>2019</td>\n      <td>2102903</td>\n      <td>Carutapera</td>\n      <td>21</td>\n      <td>MA</td>\n      <td>29</td>\n      <td>F</td>\n      <td>1</td>\n      <td>2</td>\n      <td>...</td>\n      <td>A</td>\n      <td>A</td>\n      <td>A</td>\n      <td>B</td>\n      <td>A</td>\n      <td>A</td>\n      <td>B</td>\n      <td>A</td>\n      <td>A</td>\n      <td>A</td>\n    </tr>\n    <tr>\n      <th>...</th>\n      <td>...</td>\n      <td>...</td>\n      <td>...</td>\n      <td>...</td>\n      <td>...</td>\n      <td>...</td>\n      <td>...</td>\n      <td>...</td>\n      <td>...</td>\n      <td>...</td>\n      <td>...</td>\n      <td>...</td>\n      <td>...</td>\n      <td>...</td>\n      <td>...</td>\n      <td>...</td>\n      <td>...</td>\n      <td>...</td>\n      <td>...</td>\n      <td>...</td>\n      <td>...</td>\n    </tr>\n    <tr>\n      <th>997910</th>\n      <td>190002002558</td>\n      <td>2019</td>\n      <td>2111300</td>\n      <td>São Luís</td>\n      <td>21</td>\n      <td>MA</td>\n      <td>18</td>\n      <td>M</td>\n      <td>1</td>\n      <td>3</td>\n      <td>...</td>\n      <td>A</td>\n      <td>A</td>\n      <td>A</td>\n      <td>B</td>\n      <td>A</td>\n      <td>A</td>\n      <td>C</td>\n      <td>A</td>\n      <td>A</td>\n      <td>B</td>\n    </tr>\n    <tr>\n      <th>997911</th>\n      <td>190002002559</td>\n      <td>2019</td>\n      <td>2105153</td>\n      <td>Igarapé do Meio</td>\n      <td>21</td>\n      <td>MA</td>\n      <td>25</td>\n      <td>F</td>\n      <td>1</td>\n      <td>3</td>\n      <td>...</td>\n      <td>A</td>\n      <td>A</td>\n      <td>A</td>\n      <td>B</td>\n      <td>A</td>\n      <td>A</td>\n      <td>B</td>\n      <td>A</td>\n      <td>A</td>\n      <td>B</td>\n    </tr>\n    <tr>\n      <th>997912</th>\n      <td>190002002560</td>\n      <td>2019</td>\n      <td>2105302</td>\n      <td>Imperatriz</td>\n      <td>21</td>\n      <td>MA</td>\n      <td>24</td>\n      <td>M</td>\n      <td>1</td>\n      <td>1</td>\n      <td>...</td>\n      <td>A</td>\n      <td>A</td>\n      <td>A</td>\n      <td>B</td>\n      <td>A</td>\n      <td>A</td>\n      <td>C</td>\n      <td>A</td>\n      <td>B</td>\n      <td>B</td>\n    </tr>\n    <tr>\n      <th>997913</th>\n      <td>190002002561</td>\n      <td>2019</td>\n      <td>2111300</td>\n      <td>São Luís</td>\n      <td>21</td>\n      <td>MA</td>\n      <td>18</td>\n      <td>M</td>\n      <td>1</td>\n      <td>3</td>\n      <td>...</td>\n      <td>A</td>\n      <td>A</td>\n      <td>A</td>\n      <td>B</td>\n      <td>A</td>\n      <td>A</td>\n      <td>B</td>\n      <td>A</td>\n      <td>A</td>\n      <td>A</td>\n    </tr>\n    <tr>\n      <th>997914</th>\n      <td>190002002562</td>\n      <td>2019</td>\n      <td>2111300</td>\n      <td>São Luís</td>\n      <td>21</td>\n      <td>MA</td>\n      <td>22</td>\n      <td>M</td>\n      <td>1</td>\n      <td>3</td>\n      <td>...</td>\n      <td>B</td>\n      <td>A</td>\n      <td>A</td>\n      <td>B</td>\n      <td>A</td>\n      <td>A</td>\n      <td>C</td>\n      <td>A</td>\n      <td>B</td>\n      <td>B</td>\n    </tr>\n  </tbody>\n</table>\n<p>47738 rows × 136 columns</p>\n</div>"
     },
     "metadata": {},
     "execution_count": 18
    }
   ],
   "source": [
    "#Dados equivalentes aos inscritos do Estado do Maranhão\n",
    "dados_[dados_['SG_UF_RESIDENCIA'] == 'MA']"
   ]
  },
  {
   "cell_type": "code",
   "execution_count": 19,
   "metadata": {},
   "outputs": [
    {
     "output_type": "execute_result",
     "data": {
      "text/plain": [
       "        NU_INSCRICAO  NU_ANO  CO_MUNICIPIO_RESIDENCIA NO_MUNICIPIO_RESIDENCIA  \\\n",
       "1580    190001006207    2019                  2102606          Cândido Mendes   \n",
       "2352    190001006979    2019                  2111300                São Luís   \n",
       "6072    190001010699    2019                  2100055              Açailândia   \n",
       "8530    190001013157    2019                  2102903              Carutapera   \n",
       "13113   190001017740    2019                  2111805              Sítio Novo   \n",
       "...              ...     ...                      ...                     ...   \n",
       "997902  190002002550    2019                  2111300                São Luís   \n",
       "997904  190002002552    2019                  2111300                São Luís   \n",
       "997905  190002002553    2019                  2105302              Imperatriz   \n",
       "997907  190002002555    2019                  2111300                São Luís   \n",
       "997911  190002002559    2019                  2105153         Igarapé do Meio   \n",
       "\n",
       "        CO_UF_RESIDENCIA SG_UF_RESIDENCIA  NU_IDADE TP_SEXO  TP_ESTADO_CIVIL  \\\n",
       "1580                  21               MA        18       F                1   \n",
       "2352                  21               MA        36       F                2   \n",
       "6072                  21               MA        22       F                1   \n",
       "8530                  21               MA        29       F                1   \n",
       "13113                 21               MA        17       F                1   \n",
       "...                  ...              ...       ...     ...              ...   \n",
       "997902                21               MA        21       F                1   \n",
       "997904                21               MA        21       F                1   \n",
       "997905                21               MA        35       F                2   \n",
       "997907                21               MA        21       F                1   \n",
       "997911                21               MA        25       F                1   \n",
       "\n",
       "        TP_COR_RACA  ...  Q016  Q017 Q018  Q019 Q020  Q021  Q022  Q023  Q024  \\\n",
       "1580              1  ...     A     A    A     B    A     A     C     A     A   \n",
       "2352              3  ...     A     A    A     B    A     A     B     A     A   \n",
       "6072              3  ...     A     A    A     B    B     B     D     A     A   \n",
       "8530              2  ...     A     A    A     B    A     A     B     A     A   \n",
       "13113             1  ...     A     A    A     B    A     A     B     A     A   \n",
       "...             ...  ...   ...   ...  ...   ...  ...   ...   ...   ...   ...   \n",
       "997902            2  ...     A     A    A     B    A     A     C     A     A   \n",
       "997904            3  ...     A     A    A     B    A     A     B     A     A   \n",
       "997905            3  ...     A     A    A     B    A     A     C     A     B   \n",
       "997907            3  ...     A     A    A     B    A     A     E     A     A   \n",
       "997911            3  ...     A     A    A     B    A     A     B     A     A   \n",
       "\n",
       "        Q025  \n",
       "1580       B  \n",
       "2352       A  \n",
       "6072       B  \n",
       "8530       A  \n",
       "13113      B  \n",
       "...      ...  \n",
       "997902     A  \n",
       "997904     A  \n",
       "997905     B  \n",
       "997907     A  \n",
       "997911     B  \n",
       "\n",
       "[30258 rows x 136 columns]"
      ],
      "text/html": "<div>\n<style scoped>\n    .dataframe tbody tr th:only-of-type {\n        vertical-align: middle;\n    }\n\n    .dataframe tbody tr th {\n        vertical-align: top;\n    }\n\n    .dataframe thead th {\n        text-align: right;\n    }\n</style>\n<table border=\"1\" class=\"dataframe\">\n  <thead>\n    <tr style=\"text-align: right;\">\n      <th></th>\n      <th>NU_INSCRICAO</th>\n      <th>NU_ANO</th>\n      <th>CO_MUNICIPIO_RESIDENCIA</th>\n      <th>NO_MUNICIPIO_RESIDENCIA</th>\n      <th>CO_UF_RESIDENCIA</th>\n      <th>SG_UF_RESIDENCIA</th>\n      <th>NU_IDADE</th>\n      <th>TP_SEXO</th>\n      <th>TP_ESTADO_CIVIL</th>\n      <th>TP_COR_RACA</th>\n      <th>...</th>\n      <th>Q016</th>\n      <th>Q017</th>\n      <th>Q018</th>\n      <th>Q019</th>\n      <th>Q020</th>\n      <th>Q021</th>\n      <th>Q022</th>\n      <th>Q023</th>\n      <th>Q024</th>\n      <th>Q025</th>\n    </tr>\n  </thead>\n  <tbody>\n    <tr>\n      <th>1580</th>\n      <td>190001006207</td>\n      <td>2019</td>\n      <td>2102606</td>\n      <td>Cândido Mendes</td>\n      <td>21</td>\n      <td>MA</td>\n      <td>18</td>\n      <td>F</td>\n      <td>1</td>\n      <td>1</td>\n      <td>...</td>\n      <td>A</td>\n      <td>A</td>\n      <td>A</td>\n      <td>B</td>\n      <td>A</td>\n      <td>A</td>\n      <td>C</td>\n      <td>A</td>\n      <td>A</td>\n      <td>B</td>\n    </tr>\n    <tr>\n      <th>2352</th>\n      <td>190001006979</td>\n      <td>2019</td>\n      <td>2111300</td>\n      <td>São Luís</td>\n      <td>21</td>\n      <td>MA</td>\n      <td>36</td>\n      <td>F</td>\n      <td>2</td>\n      <td>3</td>\n      <td>...</td>\n      <td>A</td>\n      <td>A</td>\n      <td>A</td>\n      <td>B</td>\n      <td>A</td>\n      <td>A</td>\n      <td>B</td>\n      <td>A</td>\n      <td>A</td>\n      <td>A</td>\n    </tr>\n    <tr>\n      <th>6072</th>\n      <td>190001010699</td>\n      <td>2019</td>\n      <td>2100055</td>\n      <td>Açailândia</td>\n      <td>21</td>\n      <td>MA</td>\n      <td>22</td>\n      <td>F</td>\n      <td>1</td>\n      <td>3</td>\n      <td>...</td>\n      <td>A</td>\n      <td>A</td>\n      <td>A</td>\n      <td>B</td>\n      <td>B</td>\n      <td>B</td>\n      <td>D</td>\n      <td>A</td>\n      <td>A</td>\n      <td>B</td>\n    </tr>\n    <tr>\n      <th>8530</th>\n      <td>190001013157</td>\n      <td>2019</td>\n      <td>2102903</td>\n      <td>Carutapera</td>\n      <td>21</td>\n      <td>MA</td>\n      <td>29</td>\n      <td>F</td>\n      <td>1</td>\n      <td>2</td>\n      <td>...</td>\n      <td>A</td>\n      <td>A</td>\n      <td>A</td>\n      <td>B</td>\n      <td>A</td>\n      <td>A</td>\n      <td>B</td>\n      <td>A</td>\n      <td>A</td>\n      <td>A</td>\n    </tr>\n    <tr>\n      <th>13113</th>\n      <td>190001017740</td>\n      <td>2019</td>\n      <td>2111805</td>\n      <td>Sítio Novo</td>\n      <td>21</td>\n      <td>MA</td>\n      <td>17</td>\n      <td>F</td>\n      <td>1</td>\n      <td>1</td>\n      <td>...</td>\n      <td>A</td>\n      <td>A</td>\n      <td>A</td>\n      <td>B</td>\n      <td>A</td>\n      <td>A</td>\n      <td>B</td>\n      <td>A</td>\n      <td>A</td>\n      <td>B</td>\n    </tr>\n    <tr>\n      <th>...</th>\n      <td>...</td>\n      <td>...</td>\n      <td>...</td>\n      <td>...</td>\n      <td>...</td>\n      <td>...</td>\n      <td>...</td>\n      <td>...</td>\n      <td>...</td>\n      <td>...</td>\n      <td>...</td>\n      <td>...</td>\n      <td>...</td>\n      <td>...</td>\n      <td>...</td>\n      <td>...</td>\n      <td>...</td>\n      <td>...</td>\n      <td>...</td>\n      <td>...</td>\n      <td>...</td>\n    </tr>\n    <tr>\n      <th>997902</th>\n      <td>190002002550</td>\n      <td>2019</td>\n      <td>2111300</td>\n      <td>São Luís</td>\n      <td>21</td>\n      <td>MA</td>\n      <td>21</td>\n      <td>F</td>\n      <td>1</td>\n      <td>2</td>\n      <td>...</td>\n      <td>A</td>\n      <td>A</td>\n      <td>A</td>\n      <td>B</td>\n      <td>A</td>\n      <td>A</td>\n      <td>C</td>\n      <td>A</td>\n      <td>A</td>\n      <td>A</td>\n    </tr>\n    <tr>\n      <th>997904</th>\n      <td>190002002552</td>\n      <td>2019</td>\n      <td>2111300</td>\n      <td>São Luís</td>\n      <td>21</td>\n      <td>MA</td>\n      <td>21</td>\n      <td>F</td>\n      <td>1</td>\n      <td>3</td>\n      <td>...</td>\n      <td>A</td>\n      <td>A</td>\n      <td>A</td>\n      <td>B</td>\n      <td>A</td>\n      <td>A</td>\n      <td>B</td>\n      <td>A</td>\n      <td>A</td>\n      <td>A</td>\n    </tr>\n    <tr>\n      <th>997905</th>\n      <td>190002002553</td>\n      <td>2019</td>\n      <td>2105302</td>\n      <td>Imperatriz</td>\n      <td>21</td>\n      <td>MA</td>\n      <td>35</td>\n      <td>F</td>\n      <td>2</td>\n      <td>3</td>\n      <td>...</td>\n      <td>A</td>\n      <td>A</td>\n      <td>A</td>\n      <td>B</td>\n      <td>A</td>\n      <td>A</td>\n      <td>C</td>\n      <td>A</td>\n      <td>B</td>\n      <td>B</td>\n    </tr>\n    <tr>\n      <th>997907</th>\n      <td>190002002555</td>\n      <td>2019</td>\n      <td>2111300</td>\n      <td>São Luís</td>\n      <td>21</td>\n      <td>MA</td>\n      <td>21</td>\n      <td>F</td>\n      <td>1</td>\n      <td>3</td>\n      <td>...</td>\n      <td>A</td>\n      <td>A</td>\n      <td>A</td>\n      <td>B</td>\n      <td>A</td>\n      <td>A</td>\n      <td>E</td>\n      <td>A</td>\n      <td>A</td>\n      <td>A</td>\n    </tr>\n    <tr>\n      <th>997911</th>\n      <td>190002002559</td>\n      <td>2019</td>\n      <td>2105153</td>\n      <td>Igarapé do Meio</td>\n      <td>21</td>\n      <td>MA</td>\n      <td>25</td>\n      <td>F</td>\n      <td>1</td>\n      <td>3</td>\n      <td>...</td>\n      <td>A</td>\n      <td>A</td>\n      <td>A</td>\n      <td>B</td>\n      <td>A</td>\n      <td>A</td>\n      <td>B</td>\n      <td>A</td>\n      <td>A</td>\n      <td>B</td>\n    </tr>\n  </tbody>\n</table>\n<p>30258 rows × 136 columns</p>\n</div>"
     },
     "metadata": {},
     "execution_count": 19
    }
   ],
   "source": [
    "#Dados equivalentes aos inscritos do sexo feminino do Estado do Maranhão\n",
    "\n",
    "dados_.loc[(dados_[\"SG_UF_RESIDENCIA\"] == 'MA') & (dados_[\"TP_SEXO\"] == 'F')]"
   ]
  },
  {
   "cell_type": "code",
   "execution_count": null,
   "metadata": {},
   "outputs": [],
   "source": []
  }
 ]
}